{
 "cells": [
  {
   "cell_type": "markdown",
   "metadata": {},
   "source": [
    "# 위에서 아래로\n",
    "\n",
    "### 입력 조건\n",
    "\n",
    "- 첫째 줄에 수열이 속해 있는 수의 개수 N이 주어진다. (1 <= N <= 500)\n",
    "- 둘째 줄부터 N+1번째 줄까지 N개의 수가 입력된다. 수의 범위는 1 이상 100000 이하의 자연수이다.\n",
    "\n",
    "### 출력 조건\n",
    "\n",
    "- 입력으로 주어진 수열이 내림차순으로 정렬된 결과를 공백으로 구분하여 출력한다. 동일한 수의 순서는 자유롭게 출력해도 괜찮다.\n"
   ]
  },
  {
   "cell_type": "code",
   "execution_count": 6,
   "metadata": {},
   "outputs": [
    {
     "name": "stdout",
     "output_type": "stream",
     "text": [
      "27 15 12 "
     ]
    }
   ],
   "source": [
    "n = int(input())\n",
    "\n",
    "input_list = []\n",
    "for i in range(n):\n",
    "    input_list.append(int(input()))\n",
    "\n",
    "result = sorted(input_list, reverse=True)\n",
    "\n",
    "for i in result:\n",
    "    print(i, end=\" \")"
   ]
  },
  {
   "cell_type": "code",
   "execution_count": null,
   "metadata": {},
   "outputs": [],
   "source": [
    "# 문제 풀이\n",
    "# N 입력 받기\n",
    "n = int(input())\n",
    "\n",
    "# N개의 정수를 입력 받아 리스트에 저장\n",
    "array = []\n",
    "for i in range(n):\n",
    "    array.append(int(input()))\n",
    "\n",
    "# 파이썬 정렬 라이브러리를 이용하여 내림차순 정렬 수행\n",
    "array = sorted(array, reverse=True)\n",
    "\n",
    "# 정렬이 수행된 결과를 출력\n",
    "for i in array:\n",
    "    print(i, end=\" \")"
   ]
  }
 ],
 "metadata": {
  "kernelspec": {
   "display_name": "Python 3",
   "language": "python",
   "name": "python3"
  },
  "language_info": {
   "codemirror_mode": {
    "name": "ipython",
    "version": 3
   },
   "file_extension": ".py",
   "mimetype": "text/x-python",
   "name": "python",
   "nbconvert_exporter": "python",
   "pygments_lexer": "ipython3",
   "version": "3.11.7"
  }
 },
 "nbformat": 4,
 "nbformat_minor": 2
}
