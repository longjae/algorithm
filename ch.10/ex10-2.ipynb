{
 "cells": [
  {
   "cell_type": "markdown",
   "metadata": {},
   "source": [
    "# 도시 분할 계획\n",
    "\n",
    "### 입력 조건\n",
    "\n",
    "- 첫째 줄에 집의 개수 N, 길의 개수 M이 주어진다. N은 2 이상 100,000 이하인 정수이고, M은 1 이상 1,000,000 이하인 정수이다.\n",
    "- 그 다음 줄부터 M줄에 걸쳐 길의 정보가 A, B, C 3개의 정수로 공백으로 구분되어 주어지는데 A번 집과 B번 집을 연결하는 길의 유지비가 C(1 <= C <= 1,000) 라는 뜻이다.\n",
    "\n",
    "### 출력 조건\n",
    "\n",
    "- 첫째 줄에 길을 없애고 남은 유지비 합의 최솟값을 출력한다.\n"
   ]
  },
  {
   "cell_type": "code",
   "execution_count": 1,
   "metadata": {},
   "outputs": [
    {
     "name": "stdout",
     "output_type": "stream",
     "text": [
      "8\n"
     ]
    }
   ],
   "source": [
    "# 푼 문제\n",
    "\n",
    "\n",
    "def find_parent(graph, a):\n",
    "    if graph[a] != a:\n",
    "        graph[a] = find_parent(graph, graph[a])\n",
    "    return graph[a]\n",
    "\n",
    "\n",
    "def union(parent, a, b):\n",
    "    a = find_parent(parent, a)\n",
    "    b = find_parent(parent, b)\n",
    "    if a > b:\n",
    "        parent[a] = b\n",
    "    else:\n",
    "        parent[b] = a\n",
    "\n",
    "\n",
    "n, m = map(int, input().split())\n",
    "parent = [0] * (n + 1)\n",
    "edges = []\n",
    "result = []\n",
    "\n",
    "for i in range(1, n + 1):\n",
    "    parent[i] = i\n",
    "\n",
    "\n",
    "for i in range(m):\n",
    "    a, b, c = map(int, input().split())\n",
    "    edges.append((c, a, b))\n",
    "\n",
    "edges.sort()\n",
    "\n",
    "for edge in edges:\n",
    "    cost, a, b = edge\n",
    "    if find_parent(parent, a) != find_parent(parent, b):\n",
    "        union(parent, a, b)\n",
    "        result.append(cost)\n",
    "\n",
    "result.sort()\n",
    "print(sum([i for i in result[:-1]]))"
   ]
  },
  {
   "cell_type": "code",
   "execution_count": null,
   "metadata": {},
   "outputs": [],
   "source": [
    "# 문제 풀이\n",
    "\n",
    "\n",
    "# 특정 원소가 속한 집합을 찾기\n",
    "def find_parent(parent, x):\n",
    "    # 루트 노드가 아니라면, 루트 노드를 찾을 때까지 재귀적으로 호출\n",
    "    if parent[x] != x:\n",
    "        parent[x] = find_parent(parent, parent[x])\n",
    "    return parent[x]\n",
    "\n",
    "\n",
    "# 두 원소가 속한 집합을 합치기\n",
    "def union_parent(parent, a, b):\n",
    "    a = find_parent(parent, a)\n",
    "    b = find_parent(parent, b)\n",
    "    if a < b:\n",
    "        parent[b] = a\n",
    "    else:\n",
    "        parent[a] = b\n",
    "\n",
    "\n",
    "# 노드의 개수와 간선(Union 연산)의 개수 입력받기\n",
    "v, e = map(int, input().split())\n",
    "parent = [0] * (v + 1)  # 부모 테이블 초기화\n",
    "\n",
    "# 모든 간선을 담을 리스트와, 최종 비용을 담을 변수\n",
    "edges = []\n",
    "result = 0\n",
    "\n",
    "# 부모 테이블상에서, 부모를 자기 자신으로 초기화\n",
    "for i in range(1, v + 1):\n",
    "    parent[i] = i\n",
    "\n",
    "# 모든 간선에 대한 정보를 입력받기\n",
    "for _ in range(e):\n",
    "    a, b, cost = map(int, input().split())\n",
    "    # 비용순으로 정렬하기 위해서 튜플의 첫 번째 원소를 비용으로 설정\n",
    "    edges.append((cost, a, b))\n",
    "\n",
    "# 간선을 비용순으로 정렬\n",
    "edges.sort()\n",
    "last = 0  # 최소 신장 트리에 포함되는 간선 중에서 가장 비용이 큰 간선\n",
    "\n",
    "# 간선을 하나씩 확인하며\n",
    "for edge in edges:\n",
    "    cost, a, b = edge\n",
    "    # 사이클이 발생하지 않는 경우에만 집합에 포함\n",
    "    if find_parent(parent, a) != find_parent(parent, b):\n",
    "        union_parent(parent, a, b)\n",
    "        result += cost\n",
    "        last = cost\n",
    "\n",
    "print(result - last)"
   ]
  }
 ],
 "metadata": {
  "kernelspec": {
   "display_name": "Python 3",
   "language": "python",
   "name": "python3"
  },
  "language_info": {
   "codemirror_mode": {
    "name": "ipython",
    "version": 3
   },
   "file_extension": ".py",
   "mimetype": "text/x-python",
   "name": "python",
   "nbconvert_exporter": "python",
   "pygments_lexer": "ipython3",
   "version": "3.11.7"
  }
 },
 "nbformat": 4,
 "nbformat_minor": 2
}
