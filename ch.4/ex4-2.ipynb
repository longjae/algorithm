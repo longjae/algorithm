{
 "cells": [
  {
   "cell_type": "markdown",
   "metadata": {},
   "source": [
    "# 시각\n",
    "\n",
    "### 입력조건\n",
    "\n",
    "- 첫째 줄에 정수 N이 입력된다.(0 <= N <= 23)\n",
    "\n",
    "### 출력조건\n",
    "\n",
    "- 00시 00분 00초부터 N시 59분 59초까지의 모든 시각 중에서 3이 하나라도 포함되는 모든 경우의수를 출력한다.\n",
    "\n",
    "| 입력예시 | 출력예시 |\n",
    "| -------- | -------- |\n",
    "| 5        | 11475    |\n"
   ]
  },
  {
   "cell_type": "code",
   "execution_count": 3,
   "metadata": {},
   "outputs": [
    {
     "name": "stdout",
     "output_type": "stream",
     "text": [
      "11475\n"
     ]
    }
   ],
   "source": [
    "# 푼 문제\n",
    "n = int(input())\n",
    "\n",
    "count = 0\n",
    "for h in range(n + 1):\n",
    "    for m in range(60):\n",
    "        for s in range(60):\n",
    "            if \"3\" in str(h) + str(m) + str(s):\n",
    "                count += 1\n",
    "\n",
    "print(count)"
   ]
  },
  {
   "cell_type": "code",
   "execution_count": null,
   "metadata": {},
   "outputs": [],
   "source": [
    "# 문제 풀이\n",
    "h = int(input())\n",
    "\n",
    "count = 0\n",
    "for i in range(h + 1):\n",
    "    for j in range(60):\n",
    "        for k in range(60):\n",
    "            if \"3\" in str(i) + str(j) + str(k):\n",
    "                count += 1\n",
    "\n",
    "print(count)"
   ]
  },
  {
   "cell_type": "code",
   "execution_count": 1,
   "metadata": {},
   "outputs": [
    {
     "name": "stdout",
     "output_type": "stream",
     "text": [
      "11475\n"
     ]
    }
   ],
   "source": [
    "# 재완님 문제 풀이\n",
    "n = int(input())\n",
    "\n",
    "minutes_with_3 = sum(1 for i in range(60) if \"3\" in str(i))\n",
    "seconds_with_3 = sum(1 for i in range(60) if \"3\" in str(i))\n",
    "\n",
    "count = 0\n",
    "for h in range(n + 1):\n",
    "    if \"3\" in str(h):\n",
    "        count += 3600\n",
    "    else:\n",
    "        count += minutes_with_3 * seconds_with_3\n",
    "        count += minutes_with_3 * (60 - seconds_with_3)\n",
    "        count += (60 - minutes_with_3) * seconds_with_3\n",
    "\n",
    "print(count)"
   ]
  },
  {
   "cell_type": "code",
   "execution_count": null,
   "metadata": {},
   "outputs": [],
   "source": []
  }
 ],
 "metadata": {
  "kernelspec": {
   "display_name": "Python 3",
   "language": "python",
   "name": "python3"
  },
  "language_info": {
   "codemirror_mode": {
    "name": "ipython",
    "version": 3
   },
   "file_extension": ".py",
   "mimetype": "text/x-python",
   "name": "python",
   "nbconvert_exporter": "python",
   "pygments_lexer": "ipython3",
   "version": "3.11.7"
  }
 },
 "nbformat": 4,
 "nbformat_minor": 2
}
