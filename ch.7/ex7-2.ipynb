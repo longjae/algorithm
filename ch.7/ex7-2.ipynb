{
 "cells": [
  {
   "cell_type": "markdown",
   "metadata": {},
   "source": [
    "# 떡볶이 떡 만들기\n",
    "\n",
    "### 입력 조건\n",
    "\n",
    "- 첫째 줄에 떡의 개수 N과 요청한 떡의 길이 M이 주어진다. (1 <= N <= 1,000,000, 1<= M <= 2,000,000,000)\n",
    "- 둘째 줄에는 떡의 개별 높이가 주어진다. 떡 높이의 총합은 항상 M 이상이므로, 손님은 필요한 양만큼 떡을 사갈 수 있다. 높이는 10억보다 작거나 같은 양의 정수 또는 0이다.\n",
    "\n",
    "### 출력 조건\n",
    "\n",
    "- 적어도 M 만큼의 떡을 집에 가져가기 위해 절단기에 설정할 수 있는 높이의 최댓값을 출력한다.\n"
   ]
  },
  {
   "cell_type": "code",
   "execution_count": 23,
   "metadata": {},
   "outputs": [
    {
     "name": "stdout",
     "output_type": "stream",
     "text": [
      "15\n"
     ]
    }
   ],
   "source": [
    "# 푼 문제\n",
    "\n",
    "n, m = map(int, input().split())\n",
    "h = list(map(int, input().split()))\n",
    "\n",
    "start = 0\n",
    "end = max(h)\n",
    "\n",
    "while start <= end:\n",
    "    mid = (start + end) // 2\n",
    "    left = 0\n",
    "    for i in h:\n",
    "        if i - mid > 0:\n",
    "            left += i - mid\n",
    "\n",
    "    if left == m:\n",
    "        result = mid\n",
    "        break\n",
    "    elif left > m:\n",
    "        start = mid + 1\n",
    "    else:\n",
    "        end = mid - 1\n",
    "\n",
    "print(mid)"
   ]
  },
  {
   "cell_type": "code",
   "execution_count": null,
   "metadata": {},
   "outputs": [],
   "source": [
    "# 문제 풀이\n",
    "\n",
    "# 떡의 개수(N)와 요청한 떡의 길이(M)을 입력\n",
    "n, m = list(map(int, input().split(\" \")))\n",
    "# 각 떡의 개별 높이 정보를 입력\n",
    "array = list(map(int, input().split()))\n",
    "\n",
    "# 이진 탐색을 위한 시작점과 끝점 설정\n",
    "start = 0\n",
    "end = max(array)\n",
    "\n",
    "# 이진 탐색 수행 (반복적)\n",
    "result = 0\n",
    "while start <= end:\n",
    "    total = 0\n",
    "    mid = (start + end) // 2\n",
    "    for x in array:\n",
    "        # 잘랐을 때의 떡볶이 양 계산\n",
    "        if x > mid:\n",
    "            total += x - mid\n",
    "    # 떡볶이 양이 부족한 경우 더 많이 자르기 (오른쪽 부분 탐색)\n",
    "    if total < m:\n",
    "        end = mid - 1\n",
    "    # 떡볶이 양이 충분한 경우 덜 자르기 (왼쪽 부분 탐색)\n",
    "    else:\n",
    "        result = mid  # 최대한 덜 잘랐을 때가 정답이므로, 여기에서 result에 기록\n",
    "        start = mid + 1\n",
    "\n",
    "# 정답 출력\n",
    "print(result)"
   ]
  }
 ],
 "metadata": {
  "kernelspec": {
   "display_name": "Python 3",
   "language": "python",
   "name": "python3"
  },
  "language_info": {
   "codemirror_mode": {
    "name": "ipython",
    "version": 3
   },
   "file_extension": ".py",
   "mimetype": "text/x-python",
   "name": "python",
   "nbconvert_exporter": "python",
   "pygments_lexer": "ipython3",
   "version": "3.11.7"
  }
 },
 "nbformat": 4,
 "nbformat_minor": 2
}
