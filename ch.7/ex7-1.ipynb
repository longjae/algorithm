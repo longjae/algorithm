{
 "cells": [
  {
   "cell_type": "markdown",
   "metadata": {},
   "source": [
    "# 부품 찾기\n",
    "\n",
    "### 입력 조건\n",
    "\n",
    "- 첫째 줄에 정수 N이 주어진다. (1 <= N <= 1,000,000)\n",
    "- 둘째 줄에는 공백으로 구분하여 N개의 정수가 주어진다. 이때 정수는 1보다 크고 1,000,000 이하이다.\n",
    "- 셋째 줄에는 정수 M이 주어진다.(1 <= M <= 100,000)\n",
    "- 넷째 줄에는 공백으로 구분하여 M개의 정수가 주어진다. 이때 정수는 1보다 크고 1,000,000 이하이다.\n",
    "\n",
    "### 출력 조건\n",
    "\n",
    "- 첫째 줄에 공백으로 구분하여 각 부품이 존재하면 yes를, 없으면 no를 출력한다.\n"
   ]
  },
  {
   "cell_type": "code",
   "execution_count": 6,
   "metadata": {},
   "outputs": [
    {
     "name": "stdout",
     "output_type": "stream",
     "text": [
      "no yes yes "
     ]
    }
   ],
   "source": [
    "# 푼 문제\n",
    "n = int(input())\n",
    "n_list = list(map(int, input().split()))\n",
    "m = int(input())\n",
    "m_list = list(map(int, input().split()))\n",
    "\n",
    "result_list = []\n",
    "for m in m_list:\n",
    "    if m in n_list:\n",
    "        result_list.append(\"yes\")\n",
    "    else:\n",
    "        result_list.append(\"no\")\n",
    "\n",
    "for result in result_list:\n",
    "    print(result, end=\" \")"
   ]
  },
  {
   "cell_type": "code",
   "execution_count": null,
   "metadata": {},
   "outputs": [],
   "source": [
    "# 문제 풀이\n",
    "\n",
    "\n",
    "def binary_search(array, target, start, end):\n",
    "    while start <= end:\n",
    "        mid = (start + end) // 2\n",
    "        # 찾은 경우 중간점 인덱스 반환\n",
    "        if array[mid] == target:\n",
    "            return mid\n",
    "        # 중간점의 값보다 찾고자 하는 값이 작은 경우 왼쪽 확인\n",
    "        elif array[mid] > target:\n",
    "            end = mid - 1\n",
    "        # 중간점의 값보다 찾고자 하는 값이 작은 경우 오른쪽 확인\n",
    "        else:\n",
    "            start = mid + 1\n",
    "    return None\n",
    "\n",
    "\n",
    "# N(가게의 부품 개수) 입력\n",
    "n = int(input())\n",
    "# 가게에 있는 전체 부품 번호를 공백을 기준으로 구분하여 입력\n",
    "array = list(map(int, input().split()))\n",
    "array.sort()  # 이진 탐색을 수행하기 위해 사전에 정렬 수행\n",
    "# M(손님이 확인 요청한 부품 개수) 입력\n",
    "m = int(input())\n",
    "# 손님이 확인 요청한 전체 부품 번호를 공백을 기준으로 구분하여 입력\n",
    "x = list(map(int, input().split()))\n",
    "\n",
    "# 손님이 확인 요청한 부품 번호를 하나씩 확인\n",
    "for i in x:\n",
    "    # 해당 부품이 존재하는지 확인\n",
    "    result = binary_search(array, i, 0, n - 1)\n",
    "    if result != None:\n",
    "        print(\"yes\", end=\" \")\n",
    "    else:\n",
    "        print(\"no\", end=\" \")"
   ]
  }
 ],
 "metadata": {
  "kernelspec": {
   "display_name": "Python 3",
   "language": "python",
   "name": "python3"
  },
  "language_info": {
   "codemirror_mode": {
    "name": "ipython",
    "version": 3
   },
   "file_extension": ".py",
   "mimetype": "text/x-python",
   "name": "python",
   "nbconvert_exporter": "python",
   "pygments_lexer": "ipython3",
   "version": "3.11.7"
  }
 },
 "nbformat": 4,
 "nbformat_minor": 2
}
