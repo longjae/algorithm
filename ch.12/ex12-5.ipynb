{
 "cells": [
  {
   "cell_type": "markdown",
   "metadata": {},
   "source": [
    "# 뱀\n",
    "\n",
    "- 'Dummy'라는 도스 게임이 있습니다. 이 게임에는 뱀이 나와서 기어 다니는데, 사과를 먹으면 뱀 길이가 늘어납니다. 뱀이 이리저리 기어 다니다가 벽 또는 자기 자신의 몸과 부딪히면 게임이 끝납니다. 게임은 N x N 정사각 보드 위에서 진행되고, 몇몇 칸에는 사과가 놓여져 있습니다. 보드의 상하좌우 끝에는 벽이 있습니다. 게임을 시작할 때 뱀은 맨 위 맨 좌측에 위치하고 뱀의 길이는 1입니다. 뱀은 처음에 오른쪽을 향합니다.\n",
    "- 뱀은 매 초마다 이동을 하는데 다음과 같은 규칙을 따릅니다.\n",
    "\n",
    "  - 먼저 뱀은 몸길이를 늘려 머리를 다음 칸에 위치시킵니다.\n",
    "  - 만약 이동한 칸에 사과가 있다면, 그 칸에 있던 사과가 없어지고 꼬리는 움직이지 않습니다.\n",
    "  - 만약 이동한 칸에 사과가 없다면, 몸길이를 줄여서 꼬리가 위치한 칸을 비워줍니다. 즉, 몸길이는 변하지 않습니다.\n",
    "\n",
    "### 입력 조건\n",
    "\n",
    "- 첫째 줄에 보드의 크기 N이 주어집니다. (2<=N<=100) 다음 줄에 사과의 개수 K가 주어집니다. (0<=K<=100)\n",
    "- 다음 K개의 줄에는 사과의 위치가 주어지는데, 첫 번째 정수는 행, 두 번째 정수는 열 위치를 의미합니다. 사과의 위치는 모두 다르며, 맨 위 맨 좌측(1행 1열)에는 사과가 없습니다.\n",
    "- 다음 줄에는 뱀의 방향 변환 횟수 L이 주어집니다. (1<=L<=100)\n",
    "- 다음 L개의 줄에는 뱀의 방향 변환 정보가 주어지는데, 정수 X와 문자 C로 이루어져 있으며, 게임 시작 시간으로부터 X초가 끝난 뒤에 왼쪽(C가 'L') 또는 오른쪽(C가 'D')으로 90도 방향을 회전시킨다는 뜻입니다. X는 10,000 이하의 양의 정수이며, 방향 전환 정보는 X가 증가하는 순으로 주어집니다.\n",
    "\n",
    "### 출력 조건\n",
    "\n",
    "- 첫째 줄에 게임이 몇 초에 끝나는지 출력합니다.\n"
   ]
  },
  {
   "cell_type": "code",
   "execution_count": 1,
   "metadata": {},
   "outputs": [
    {
     "data": {
      "text/plain": [
       "9"
      ]
     },
     "execution_count": 1,
     "metadata": {},
     "output_type": "execute_result"
    }
   ],
   "source": [
    "n = int(input())\n",
    "k = int(input())\n",
    "data = [[0] * (n + 1) for _ in range(n + 1)]  # 맵 정보\n",
    "info = []  # 방향 회전 정보\n",
    "\n",
    "# 맵 정보(사과 있는 곳은 1로 표시)\n",
    "for _ in range(k):\n",
    "    a, b = map(int, input().split())\n",
    "    data[a][b] = 1\n",
    "\n",
    "# 방향 회전 정보 입력\n",
    "l = int(input())\n",
    "for _ in range(l):\n",
    "    x, c = input().split()\n",
    "    info.append((int(x), c))\n",
    "\n",
    "# 처음에는 오른쪽을 보고 있으므로(동, 남, 서, 북)\n",
    "dx = [0, 1, 0, -1]\n",
    "dy = [1, 0, -1, 0]\n",
    "\n",
    "\n",
    "def turn(direction, c):\n",
    "    if c == \"L\":\n",
    "        direction = (direction - 1) % 4\n",
    "    else:\n",
    "        direction = (direction + 1) % 4\n",
    "    return direction\n",
    "\n",
    "\n",
    "def simulate():\n",
    "    x, y = 1, 1  # 뱀의 머리 위치\n",
    "    data[x][y] = 2  # 뱀이 존재하는 위치는 2로 표시\n",
    "    direction = 0  # 처음에는 동쪽을 보고 있음\n",
    "    time = 0  # 시작한 뒤에 지난 '초' 시간\n",
    "    index = 0  # 다음에 회전할 정보\n",
    "    q = [(x, y)]  # 뱀이 차지하고 있는 위치 정보(꼬리가 앞쪽)\n",
    "\n",
    "    while True:\n",
    "        nx = x + dx[direction]\n",
    "        ny = y + dy[direction]\n",
    "        # 맵 범위 안에 있고, 뱀의 몸통이 없는 위치라면\n",
    "        if 1 <= nx and nx <= n and 1 <= ny and ny <= n and data[nx][ny] != 2:\n",
    "            # 사과가 없다면 이동 후에 꼬리 제거\n",
    "            if data[nx][ny] == 0:\n",
    "                data[nx][ny] = 2\n",
    "                q.append((nx, ny))\n",
    "                px, py = q.pop(0)\n",
    "                data[px][py] = 0\n",
    "            # 사과가 있다면 이동 후에 꼬리 그대로 두기\n",
    "            if data[nx][ny] == 1:\n",
    "                data[nx][ny] = 2\n",
    "                q.append((nx, ny))\n",
    "        # 벽이나 뱀의 몸통과 부딪혔다면\n",
    "        else:\n",
    "            time += 1\n",
    "            break\n",
    "        x, y = nx, ny  # 다음 위치로 머리를 이동\n",
    "        time += 1\n",
    "        if index < l and time == info[index][0]:  # 회전할 시간인 경우 회전\n",
    "            direction = turn(direction, info[index][1])\n",
    "            index += 1\n",
    "    return time\n",
    "\n",
    "\n",
    "simulate()"
   ]
  },
  {
   "cell_type": "code",
   "execution_count": null,
   "metadata": {},
   "outputs": [],
   "source": []
  }
 ],
 "metadata": {
  "kernelspec": {
   "display_name": "Python 3",
   "language": "python",
   "name": "python3"
  },
  "language_info": {
   "codemirror_mode": {
    "name": "ipython",
    "version": 3
   },
   "file_extension": ".py",
   "mimetype": "text/x-python",
   "name": "python",
   "nbconvert_exporter": "python",
   "pygments_lexer": "ipython3",
   "version": "3.11.7"
  }
 },
 "nbformat": 4,
 "nbformat_minor": 2
}
