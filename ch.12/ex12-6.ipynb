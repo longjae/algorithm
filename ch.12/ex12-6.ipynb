{
 "cells": [
  {
   "cell_type": "markdown",
   "metadata": {},
   "source": [
    "# 기둥과 보 설치\n",
    "\n",
    "https://school.programmers.co.kr/learn/courses/30/lessons/60061\n"
   ]
  },
  {
   "cell_type": "code",
   "execution_count": null,
   "metadata": {},
   "outputs": [],
   "source": [
    "# 문제 풀이\n",
    "\n",
    "\n",
    "# 현재 설치된 구조물이 '가능한' 구조물인지 확인하는 함수\n",
    "def possible(answer):\n",
    "    for x, y, stuff in answer:\n",
    "        if stuff == 0:  # 설치된 것이 '기둥'인 경우\n",
    "            # '바닥 위' 혹은 '보의 한쪽 끝 부분 위' 혹은 '다른 기둥 위'라면 정상\n",
    "            if (\n",
    "                y == 0\n",
    "                or [x - 1, y, 1] in answer\n",
    "                or [x, y, 1] in answer\n",
    "                or [x, y - 1, 0] in answer\n",
    "            ):\n",
    "                continue\n",
    "            return False  # 아니라면 거짓(False) 반환\n",
    "        elif stuff == 1:  # 설치된 것이 '보'인 경우\n",
    "            # '한쪽 끝부분이 기둥 위' 혹은 '양쪽 끝부분이 다른 보와 동시에 연결'이라면 정상\n",
    "            if (\n",
    "                [x, y - 1, 0] in answer\n",
    "                or [x + 1, y - 1, 0] in answer\n",
    "                or ([x - 1, y, 1] in answer and [x + 1, y, 1] in answer)\n",
    "            ):\n",
    "                continue\n",
    "            return False  # 아니라면 거짓(False) 반환\n",
    "    return True\n",
    "\n",
    "\n",
    "def solution(n, build_frame):\n",
    "    answer = []\n",
    "    for frame in build_frame:  # 작업(frame)의 개수는 최대 1,000개\n",
    "        x, y, stuff, operate = frame\n",
    "        if operate == 0:  # 삭제하는 경우\n",
    "            answer.remove([x, y, stuff])  # 일단 삭제를 해본 뒤에\n",
    "            if not possible(answer):  # 가능한 구조물인지 확인\n",
    "                answer.append([x, y, stuff])  # 가능한 구조물이 아니라면 다시 설치\n",
    "        if operate == 1:  # 설치하는 경우\n",
    "            answer.append([x, y, stuff])  # 일단 설치를 해본 뒤에\n",
    "            if not possible(answer):  # 가능한 구조물인지 확인\n",
    "                answer.remove([x, y, stuff])  # 가능한 구조물이 아니라면 다시 제거\n",
    "    return sorted(answer)  # 정렬된 결과를 반환"
   ]
  }
 ],
 "metadata": {
  "language_info": {
   "name": "python"
  }
 },
 "nbformat": 4,
 "nbformat_minor": 2
}
