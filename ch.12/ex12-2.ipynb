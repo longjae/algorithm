{
 "cells": [
  {
   "cell_type": "markdown",
   "metadata": {},
   "source": [
    "# 문자열 재정렬\n",
    "\n",
    "### 입력 조건\n",
    "\n",
    "- 첫째 줄에 하나의 문자열 S가 주어집니다. (1 <= S의 길이 <= 10,000)\n",
    "\n",
    "### 출력 조건\n",
    "\n",
    "- 첫째 줄에 문제에서 요구하는 정답을 출력합니다.\n"
   ]
  },
  {
   "cell_type": "code",
   "execution_count": 5,
   "metadata": {},
   "outputs": [
    {
     "name": "stdout",
     "output_type": "stream",
     "text": [
      "ADDIJJJKKLSS20\n"
     ]
    }
   ],
   "source": [
    "# 푼 문제\n",
    "\n",
    "s = list(input())\n",
    "\n",
    "s.sort()\n",
    "\n",
    "s_list = []\n",
    "num = 0\n",
    "for i in s:\n",
    "    if \"A\" <= i <= \"Z\":\n",
    "        s_list.append(i)\n",
    "    else:\n",
    "        num += int(i)\n",
    "s_list.append(str(num))\n",
    "\n",
    "result = \"\".join(s_list)\n",
    "\n",
    "print(result)"
   ]
  },
  {
   "cell_type": "code",
   "execution_count": null,
   "metadata": {},
   "outputs": [],
   "source": [
    "# 문제 풀이\n",
    "\n",
    "data = input()\n",
    "result = []\n",
    "value = 0\n",
    "\n",
    "# 문자를 하나씩 확인하며\n",
    "for x in data:\n",
    "    # 알파벳인 경우 결과 리스트에 삽입\n",
    "    if x.isalpha():\n",
    "        result.append(x)\n",
    "    # 숫자는 따로 더하기\n",
    "    else:\n",
    "        value += int(x)\n",
    "\n",
    "# 알파벳을 오름차순으로 정렬\n",
    "result.sort()\n",
    "\n",
    "# 숫자가 하나라도 존재하는 경우 가장 뒤에 삽입\n",
    "if value != 0:\n",
    "    result.append(str(value))\n",
    "\n",
    "# 최종 결과 출력(리스트를 문자열로 변환하여 출력)\n",
    "print(\"\".join(result))"
   ]
  }
 ],
 "metadata": {
  "kernelspec": {
   "display_name": "Python 3",
   "language": "python",
   "name": "python3"
  },
  "language_info": {
   "codemirror_mode": {
    "name": "ipython",
    "version": 3
   },
   "file_extension": ".py",
   "mimetype": "text/x-python",
   "name": "python",
   "nbconvert_exporter": "python",
   "pygments_lexer": "ipython3",
   "version": "3.11.7"
  }
 },
 "nbformat": 4,
 "nbformat_minor": 2
}
