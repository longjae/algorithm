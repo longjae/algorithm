{
 "cells": [
  {
   "cell_type": "markdown",
   "metadata": {},
   "source": [
    "# 모험가 길드\n",
    "\n",
    "### 입력 조건\n",
    "\n",
    "- 첫째 줄에 모험가의 수 N이 주어집니다. (1<=N<=100,000)\n",
    "- 둘째 줄에 각 모험가의 공포도의 값을 N 이하의 자연수로 주어지며, 각 자연수는 공백으로 구분합니다.\n",
    "\n",
    "### 출력 조건\n",
    "\n",
    "- 여행을 떠날 수 있는 그룹 수의 최댓값을 출력합니다.\n"
   ]
  },
  {
   "cell_type": "code",
   "execution_count": 4,
   "metadata": {},
   "outputs": [
    {
     "name": "stdout",
     "output_type": "stream",
     "text": [
      "2\n"
     ]
    }
   ],
   "source": [
    "# 푼 문제\n",
    "n = int(input())\n",
    "people = list(map(int, input().split()))\n",
    "\n",
    "people.sort()\n",
    "\n",
    "result = 0\n",
    "count = 0\n",
    "for panic in people:\n",
    "    count += 1\n",
    "    if count >= panic:\n",
    "        result += 1\n",
    "        count = 0\n",
    "print(result)"
   ]
  },
  {
   "cell_type": "code",
   "execution_count": null,
   "metadata": {},
   "outputs": [],
   "source": [
    "# 문제 풀이\n",
    "\n",
    "n = int(input())\n",
    "data = list(map(int, input().split()))\n",
    "data.sort()\n",
    "\n",
    "result = 0  # 총 그룹의 수\n",
    "count = 0  # 현재 그룹에 포함된 모험가의 수\n",
    "\n",
    "for i in data:  # 공포도를 낮은 것부터 하나씩 확인하며\n",
    "    count += 1  # 현재 그룹에 해당 모험가를 포함시키기\n",
    "    if (\n",
    "        count >= i\n",
    "    ):  # 현재 그룹에 포함된 모험가의 수가 현재의 공포도 이상이라면, 그룹 결성\n",
    "        result += 1  # 총 그룹의 수 증가시키기\n",
    "        count = 0  # 현재 그룹에 포함된 모험가의 수 초기화\n",
    "\n",
    "print(result)  # 총 그룹의 수 출력"
   ]
  }
 ],
 "metadata": {
  "kernelspec": {
   "display_name": "Python 3",
   "language": "python",
   "name": "python3"
  },
  "language_info": {
   "codemirror_mode": {
    "name": "ipython",
    "version": 3
   },
   "file_extension": ".py",
   "mimetype": "text/x-python",
   "name": "python",
   "nbconvert_exporter": "python",
   "pygments_lexer": "ipython3",
   "version": "3.11.7"
  }
 },
 "nbformat": 4,
 "nbformat_minor": 2
}
