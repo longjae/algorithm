{
 "cells": [
  {
   "cell_type": "markdown",
   "metadata": {},
   "source": [
    "# 무지의 먹방 라이브\n",
    "\n",
    "### 문제\n",
    "\n",
    "- 평소 식욕이 왕성한 무지는 자신의 재능을 뽐내고 싶어졌고 고민 끝에 카카오 TV 라이브 방송을 하기로 마음먹었습니다. 그냥 먹방을 하면 다른 방송과 차별성이 없기 때문에 무지는 다음과 같이 독특한 방식을 생각해냈습니다.\n",
    "- 회전판에 먹어야 할 N개의 음식이 있습니다. 각 음식에는 1부터 N까지 번호가 붙어있으며, 각 음식을 섭취하는데 일정 시간이 소요됩니다. 무지는 다음과 같은 방법으로 음식을 섭취합니다.\n",
    "\n",
    "1. 무지는 1번 음식부터 먹기 시작하며, 회전판은 번호가 증가하는 순서대로 음식을 무지 앞으로 가져다 놓습니다.\n",
    "2. 마지막 번호의 음식을 섭취한 후에는 회전판에 의해 다시 1번 음식이 무지 앞으로 옵니다.\n",
    "3. 무지는 음식 하나를 1초 동안 섭취한 후 남은 음식은 그대로 두고, 다음 음식을 섭취합니다. 다음 음식이란, 아직 남은 음식 중 다음으로 섭취해야 할 가장 가까운 번호의 음식을 말합니다.\n",
    "4. 회전판이 다음 음식을 무지 앞으로 가져오는 데 걸리는 시간은 없다고 가정합니다.\n",
    "\n",
    "- 무지가 먹방을 시작한 지 K초 후에 네트워크 장애로 인해 방송이 잠시 중단되었습니다. 무지는 네트워크 정상화 후 다시 방송을 이어갈 때, 몇 번 음식부터 섭취해야 하는지를 알고자 합니다. 각 음식을 모두 먹는 데 필요한 시간이 담겨 있는 배열 food_times, 네트워크 장애가 발생한 시간 K초가 매개변수로 주어질 때 몇 번 음식부터 다시 섭취하면 되는지 return 하도록 solution 함수를 완성하세요.\n",
    "\n",
    "### 제한 사항\n",
    "\n",
    "- food_times는 각 음식을 모두 먹는 데 필요한 시간이 음식의 번호 순서대로 들어 있는 배열입니다.\n",
    "- k는 방송이 중단된 시간을 나타냅니다.\n",
    "- 만약 더 섭취해야 할 음식이 없다면 -1을 반환하면 됩니다.\n",
    "\n",
    "### 정확성 테스트 제한 사항\n",
    "\n",
    "- food_times의 길이는 1 이상 2,000 이하입니다.\n",
    "- food_times의 원소는 1 이상 1,000 이하의 자연수입니다.\n",
    "- k는 1 이상 2,000,000 이하의 자연수입니다.\n",
    "\n",
    "### 효율성 테스트 제한 사항\n",
    "\n",
    "- food_times의 길이는 1 이상 200,000 이하입니다.\n",
    "- food_times의 원소는 1 이상 100,000,000 이하의 자연수입니다.\n",
    "- k는 1 이상 2 x 10^13 이하의 자연수입니다.\n"
   ]
  },
  {
   "cell_type": "code",
   "execution_count": 4,
   "metadata": {},
   "outputs": [
    {
     "name": "stdout",
     "output_type": "stream",
     "text": [
      "1\n"
     ]
    }
   ],
   "source": [
    "# 푼 문제\n",
    "\n",
    "\n",
    "def food(food_times, k):\n",
    "    result = 0\n",
    "    times = 0\n",
    "\n",
    "    if k < sum(food_times):\n",
    "        if sum(food_times) % len(food_times) == 0:\n",
    "            turn = sum(food_times) // len(food_times)\n",
    "        else:\n",
    "            turn = sum(food_times) // len(food_times) + 1\n",
    "\n",
    "        for i in range(turn):\n",
    "            for j in range(len(food_times)):\n",
    "                if food_times[j] == 0:\n",
    "                    continue\n",
    "\n",
    "                food_times[j] -= 1\n",
    "                times += 1\n",
    "                if k == times:\n",
    "                    result = (j + 2) % len(food_times)\n",
    "    else:\n",
    "        result = -1\n",
    "\n",
    "    return result\n",
    "\n",
    "\n",
    "print(food([3, 1, 2], 5))"
   ]
  },
  {
   "cell_type": "code",
   "execution_count": 5,
   "metadata": {},
   "outputs": [
    {
     "name": "stdout",
     "output_type": "stream",
     "text": [
      "1\n"
     ]
    }
   ],
   "source": [
    "# 문제 풀이\n",
    "\n",
    "import heapq\n",
    "\n",
    "\n",
    "def solution(food_times, k):\n",
    "    # 전체 음식을 먹는 시간보다 k가 크거나 같다면 -1\n",
    "    if sum(food_times) <= k:\n",
    "        return -1\n",
    "\n",
    "    # 시간이 작은 음식부터 빼야 하므로 우선순위 큐를 이용\n",
    "    q = []\n",
    "    for i in range(len(food_times)):\n",
    "        # (음식 시간, 음식 번호) 형태로 우선순위 큐에 삽입\n",
    "        heapq.heappush(q, (food_times[i], i + 1))\n",
    "\n",
    "    sum_value = 0  # 먹기 위해 사용한 시간\n",
    "    previous = 0  # 직전에 다 먹은 음식 시간\n",
    "    length = len(food_times)  # 남은 음식의 개수\n",
    "\n",
    "    # sum_value + (현재의 음식 시간 - 이전 음식 시간) * 현재 음식 개수와 k 비교\n",
    "    while sum_value + ((q[0][0] - previous) * length) <= k:\n",
    "        now = heapq.heappop(q)[0]\n",
    "        sum_value += (now - previous) * length\n",
    "        length -= 1  # 다 먹은 음식 제외\n",
    "        previous = now  # 이전 음식 시간 재설정\n",
    "\n",
    "    # 남은 음식 중에서 몇 번째 음식인지 확인하여 출력\n",
    "    result = sorted(q, key=lambda x: x[1])  # 음식의 번호 기준으로 정렬\n",
    "    return result[(k - sum_value) % length][1]\n",
    "\n",
    "\n",
    "print(solution([3, 1, 2], 5))"
   ]
  },
  {
   "cell_type": "code",
   "execution_count": null,
   "metadata": {},
   "outputs": [],
   "source": []
  }
 ],
 "metadata": {
  "kernelspec": {
   "display_name": "Python 3",
   "language": "python",
   "name": "python3"
  },
  "language_info": {
   "codemirror_mode": {
    "name": "ipython",
    "version": 3
   },
   "file_extension": ".py",
   "mimetype": "text/x-python",
   "name": "python",
   "nbconvert_exporter": "python",
   "pygments_lexer": "ipython3",
   "version": "3.11.7"
  }
 },
 "nbformat": 4,
 "nbformat_minor": 2
}
